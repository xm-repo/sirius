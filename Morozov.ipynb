{
 "cells": [
  {
   "cell_type": "code",
   "execution_count": 14,
   "metadata": {},
   "outputs": [],
   "source": [
    "import re\n",
    "import nltk\n",
    "import pymorphy2\n",
    "import pandas as pd\n",
    "import numpy as np\n",
    "import matplotlib.pyplot as plt\n",
    "from nltk.corpus import stopwords\n",
    "\n",
    "import gensim\n",
    "import gensim.corpora as corpora\n",
    "from gensim.utils import simple_preprocess\n",
    "from gensim.models import CoherenceModel\n",
    "import pyLDAvis\n",
    "import pyLDAvis.gensim\n",
    "\n",
    "%matplotlib inline"
   ]
  },
  {
   "cell_type": "markdown",
   "metadata": {},
   "source": [
    "# Чтение файла \n",
    "pandas.read_csv не сработал, пришлось сделать вручную"
   ]
  },
  {
   "cell_type": "code",
   "execution_count": 15,
   "metadata": {
    "scrolled": false
   },
   "outputs": [
    {
     "data": {
      "text/html": [
       "<div>\n",
       "<style scoped>\n",
       "    .dataframe tbody tr th:only-of-type {\n",
       "        vertical-align: middle;\n",
       "    }\n",
       "\n",
       "    .dataframe tbody tr th {\n",
       "        vertical-align: top;\n",
       "    }\n",
       "\n",
       "    .dataframe thead th {\n",
       "        text-align: right;\n",
       "    }\n",
       "</style>\n",
       "<table border=\"1\" class=\"dataframe\">\n",
       "  <thead>\n",
       "    <tr style=\"text-align: right;\">\n",
       "      <th></th>\n",
       "      <th>url</th>\n",
       "      <th>author</th>\n",
       "      <th>type</th>\n",
       "      <th>parent_post_url</th>\n",
       "      <th>tag</th>\n",
       "      <th>body</th>\n",
       "    </tr>\n",
       "  </thead>\n",
       "  <tbody>\n",
       "    <tr>\n",
       "      <th>0</th>\n",
       "      <td>https://vk.com/wall505680146_2821</td>\n",
       "      <td>id505680146</td>\n",
       "      <td>Социальные сети</td>\n",
       "      <td>https://vk.com/wall-165936830_65882</td>\n",
       "      <td>0</td>\n",
       "      <td>\"\"#show_must_go_on@wazzupbighit#bts#Jin#Suga#R...</td>\n",
       "    </tr>\n",
       "    <tr>\n",
       "      <th>1</th>\n",
       "      <td>https://vk.com/wall-92124895_6308?reply=6329</td>\n",
       "      <td>id149164749</td>\n",
       "      <td>Социальные сети</td>\n",
       "      <td>https://vk.com/wall-92124895_6308</td>\n",
       "      <td>0</td>\n",
       "      <td>А может кто из Майкопа есть &lt;fm&gt;доброволец&lt;/fm...</td>\n",
       "    </tr>\n",
       "    <tr>\n",
       "      <th>2</th>\n",
       "      <td>https://vk.com/wall-7138849_2300?reply=2301</td>\n",
       "      <td>lyubars</td>\n",
       "      <td>Социальные сети</td>\n",
       "      <td>https://vk.com/wall-7138849_2300</td>\n",
       "      <td>0</td>\n",
       "      <td>\"\"сказать сегодня трём людям правдивый комплим...</td>\n",
       "    </tr>\n",
       "    <tr>\n",
       "      <th>3</th>\n",
       "      <td>https://vk.com/wall-146345852_579</td>\n",
       "      <td>afishadeti51</td>\n",
       "      <td>Социальные сети</td>\n",
       "      <td>https://vk.com/wall-114278140_9723</td>\n",
       "      <td>1</td>\n",
       "      <td>\"\"Друзья! Репост&lt;br&gt;Большое социальное меропри...</td>\n",
       "    </tr>\n",
       "    <tr>\n",
       "      <th>4</th>\n",
       "      <td>https://vk.com/wall509637155_124</td>\n",
       "      <td>id509637155</td>\n",
       "      <td>Социальные сети</td>\n",
       "      <td>https://vk.com/wall-137311321_2416</td>\n",
       "      <td>1</td>\n",
       "      <td>\"\"ФИЛЬМ МИТРОПОЛИТА ИЛАРИОНА «СРЕТЕНИЕ»&lt;br&gt;Фил...</td>\n",
       "    </tr>\n",
       "  </tbody>\n",
       "</table>\n",
       "</div>"
      ],
      "text/plain": [
       "                                            url        author  \\\n",
       "0             https://vk.com/wall505680146_2821   id505680146   \n",
       "1  https://vk.com/wall-92124895_6308?reply=6329   id149164749   \n",
       "2   https://vk.com/wall-7138849_2300?reply=2301       lyubars   \n",
       "3             https://vk.com/wall-146345852_579  afishadeti51   \n",
       "4              https://vk.com/wall509637155_124   id509637155   \n",
       "\n",
       "              type                      parent_post_url tag  \\\n",
       "0  Социальные сети  https://vk.com/wall-165936830_65882   0   \n",
       "1  Социальные сети    https://vk.com/wall-92124895_6308   0   \n",
       "2  Социальные сети     https://vk.com/wall-7138849_2300   0   \n",
       "3  Социальные сети   https://vk.com/wall-114278140_9723   1   \n",
       "4  Социальные сети   https://vk.com/wall-137311321_2416   1   \n",
       "\n",
       "                                                body  \n",
       "0  \"\"#show_must_go_on@wazzupbighit#bts#Jin#Suga#R...  \n",
       "1  А может кто из Майкопа есть <fm>доброволец</fm...  \n",
       "2  \"\"сказать сегодня трём людям правдивый комплим...  \n",
       "3  \"\"Друзья! Репост<br>Большое социальное меропри...  \n",
       "4  \"\"ФИЛЬМ МИТРОПОЛИТА ИЛАРИОНА «СРЕТЕНИЕ»<br>Фил...  "
      ]
     },
     "execution_count": 15,
     "metadata": {},
     "output_type": "execute_result"
    }
   ],
   "source": [
    "lines = []\n",
    "with open(\"Данные для задания.csv\", \"r\", encoding=\"UTF-8\") as read_file:\n",
    "    next(read_file)\n",
    "    lines += [line.lstrip(\"\\\"\") for line in read_file]\n",
    "df = [l.split(\",\")[:5] + [\" \".join(l.split(\",\")[5:])] for l in lines]\n",
    "df = pd.DataFrame(df, columns=[\"url\", \"author\", \"type\", \"parent_post_url\", \"tag\", \"body\"])\n",
    "df.head()"
   ]
  },
  {
   "cell_type": "markdown",
   "metadata": {},
   "source": [
    "# Функции для очистки поста"
   ]
  },
  {
   "cell_type": "code",
   "execution_count": 16,
   "metadata": {},
   "outputs": [],
   "source": [
    "# нерелевантный мусор\n",
    "def clean(body):\n",
    "    body = body.lower() # переводим в нижний регистр  \n",
    "    body = re.sub(r\"[^а-яА-Я ]\", \" \", body) # удаляем все кроме кириллицы\n",
    "    body = \" \".join([w for w in body.split() if len(w) > 1]) # удаляем однобуквенные слова\n",
    "    body = re.sub(r'\\s+', \" \", body).strip() # удаляем лишние пробелы\n",
    "    return body\n",
    "\n",
    "# лемматизация\n",
    "morph = pymorphy2.MorphAnalyzer()\n",
    "def lemmatize(body): \n",
    "    body = \" \".join([morph.parse(w)[0].normal_form for w in body.split()])\n",
    "    return body\n",
    "\n",
    "# стоп-слова\n",
    "sw = [\"это\", \"ещё\", \"весь\", \"свой\", \"который\", \"наш\", \"ваш\"]\n",
    "sw = list(set(stopwords.words(\"russian\") + sw))\n",
    "swpattern = re.compile(r'\\b(' + r'|'.join(sw) + r')\\b\\s*')    \n",
    "def deletesw(body):\n",
    "    body = swpattern.sub(\" \", body)\n",
    "    body = re.sub(r'\\s+', \" \", body).strip() # удаляем лишние пробелы\n",
    "    return body"
   ]
  },
  {
   "cell_type": "markdown",
   "metadata": {},
   "source": [
    "# Пример обработки поста"
   ]
  },
  {
   "cell_type": "markdown",
   "metadata": {},
   "source": [
    "### Исходный текст"
   ]
  },
  {
   "cell_type": "code",
   "execution_count": 17,
   "metadata": {},
   "outputs": [
    {
     "data": {
      "text/plain": [
       "'\"\"Друзья! Репост<br>Большое социальное мероприятие - 4-я выставка собак из приютов \"\"\"\"Хочу домой!\"\"\"\" состоится уже послезавтра! 17 февраля в Областной научной библиотеке на первом этаже. Фонд помощи животным \"\"\"\"Путеводная звезда\"\"\"\"<br>Показать полностью…  с с Центром развития волонтерского движения г.Мурманск организовали большую и интересную программу фудкорт  бесплатная консультация ветеринарного врача и дефиле собак из приюта  конкурсы и мастер-классы  показательные выступления пушистых артистов клуба \"\"\"\"Романов на Мурмане\"\"\"\"  зоо-эстафета  благотворительный аукцион!<br>Приходите сами  приглашайте своих родных и друзей! В празднике примут участие подопечные североморского приюта \"\"\"\"Надежда\"\"\"\" и фонда помощи животным \"\"\"\"Путеводная звезда\"\"\"\". Можно подарить понравившейся  собачке дом или поддержать сухим или влажным кормом. Узнать больше о выставке можно в группе мероприятия. <br>Встречаемся на Софьи Перовской 21А<br>с 14:00 до 16:30<br>Делай добро! Поддерживай животных! Помогай подрастающему поколению северян стать ответственнее!<br>#исебеилюдям#хочудомой4#Мурманск\"\"\";;;;;;;;;;;;;;;;;;;;;;;\\n'"
      ]
     },
     "execution_count": 17,
     "metadata": {},
     "output_type": "execute_result"
    }
   ],
   "source": [
    "example = df.iloc[3]['body']\n",
    "example"
   ]
  },
  {
   "cell_type": "markdown",
   "metadata": {},
   "source": [
    "### Переводим в нижний регистр и убираем мусор \n",
    " - специальные символы\n",
    " - латинские символы\n",
    " - лишние пробелы\n",
    " - однобуквенные слова\n",
    " - цифры"
   ]
  },
  {
   "cell_type": "code",
   "execution_count": 18,
   "metadata": {},
   "outputs": [
    {
     "data": {
      "text/plain": [
       "'друзья репост большое социальное мероприятие выставка собак из приютов хочу домой состоится уже послезавтра февраля областной научной библиотеке на первом этаже фонд помощи животным путеводная звезда показать полностью центром развития волонтерского движения мурманск организовали большую интересную программу фудкорт бесплатная консультация ветеринарного врача дефиле собак из приюта конкурсы мастер классы показательные выступления пушистых артистов клуба романов на мурмане зоо эстафета благотворительный аукцион приходите сами приглашайте своих родных друзей празднике примут участие подопечные североморского приюта надежда фонда помощи животным путеводная звезда можно подарить понравившейся собачке дом или поддержать сухим или влажным кормом узнать больше выставке можно группе мероприятия встречаемся на софьи перовской до делай добро поддерживай животных помогай подрастающему поколению северян стать ответственнее исебеилюдям хочудомой мурманск'"
      ]
     },
     "execution_count": 18,
     "metadata": {},
     "output_type": "execute_result"
    }
   ],
   "source": [
    "example = clean(example)\n",
    "example"
   ]
  },
  {
   "cell_type": "markdown",
   "metadata": {},
   "source": [
    "### Приводим слова к нормальной форме\n",
    "Используется библиотека [pymorphy2](https://pymorphy2.readthedocs.io/)"
   ]
  },
  {
   "cell_type": "code",
   "execution_count": 19,
   "metadata": {},
   "outputs": [
    {
     "data": {
      "text/plain": [
       "'друг репост большой социальный мероприятие выставка собака из приют хотеть домой состояться уже послезавтра февраль областной научный библиотека на первое этаж фонд помощь животный путеводный звезда показать полностью центр развитие волонтёрский движение мурманск организовать большой интересный программа фудкорт бесплатный консультация ветеринарный врач дефиле собака из приют конкурс мастер класс показательный выступление пушистый артист клуб роман на мурман зоо эстафета благотворительный аукцион приходить сам приглашать свой родные друг праздник принять участие подопечный североморский приют надежда фонд помощь животный путеводный звезда можно подарить понравиться собачка дом или поддержать сухой или влажный корм узнать большой выставка можно группа мероприятие встречаться на софья перовский до делать добро поддерживать животное помогать подрастать поколение северянин стать ответственный исебеичеловек хочудомой мурманск'"
      ]
     },
     "execution_count": 19,
     "metadata": {},
     "output_type": "execute_result"
    }
   ],
   "source": [
    "example = lemmatize(example)\n",
    "example"
   ]
  },
  {
   "cell_type": "markdown",
   "metadata": {},
   "source": [
    "### Удаляем стоп слова"
   ]
  },
  {
   "cell_type": "code",
   "execution_count": 20,
   "metadata": {
    "scrolled": true
   },
   "outputs": [
    {
     "data": {
      "text/plain": [
       "'друг репост большой социальный мероприятие выставка собака приют хотеть домой состояться послезавтра февраль областной научный библиотека первое этаж фонд помощь животный путеводный звезда показать полностью центр развитие волонтёрский движение мурманск организовать большой интересный программа фудкорт бесплатный консультация ветеринарный врач дефиле собака приют конкурс мастер класс показательный выступление пушистый артист клуб роман мурман зоо эстафета благотворительный аукцион приходить приглашать родные друг праздник принять участие подопечный североморский приют надежда фонд помощь животный путеводный звезда подарить понравиться собачка дом поддержать сухой влажный корм узнать большой выставка группа мероприятие встречаться софья перовский делать добро поддерживать животное помогать подрастать поколение северянин стать ответственный исебеичеловек хочудомой мурманск'"
      ]
     },
     "execution_count": 20,
     "metadata": {},
     "output_type": "execute_result"
    }
   ],
   "source": [
    "example = deletesw(example)\n",
    "example"
   ]
  },
  {
   "cell_type": "markdown",
   "metadata": {},
   "source": [
    "# Обработка всех постов"
   ]
  },
  {
   "cell_type": "code",
   "execution_count": 21,
   "metadata": {},
   "outputs": [],
   "source": [
    "df[\"body_1\"] = df.apply(lambda row: clean(row.body), axis=1) # мусор\n",
    "df[\"body_2\"] = df.apply(lambda row: lemmatize(row.body_1), axis=1) # лемматизация\n",
    "df[\"body_3\"] = df.apply(lambda row: deletesw(row.body_2), axis=1) # стоп-слова"
   ]
  },
  {
   "cell_type": "markdown",
   "metadata": {},
   "source": [
    "# Считаем слова"
   ]
  },
  {
   "cell_type": "markdown",
   "metadata": {},
   "source": [
    "И выводим 20 наиболее часто встречающихся"
   ]
  },
  {
   "cell_type": "code",
   "execution_count": 22,
   "metadata": {},
   "outputs": [
    {
     "data": {
      "text/html": [
       "<div>\n",
       "<style scoped>\n",
       "    .dataframe tbody tr th:only-of-type {\n",
       "        vertical-align: middle;\n",
       "    }\n",
       "\n",
       "    .dataframe tbody tr th {\n",
       "        vertical-align: top;\n",
       "    }\n",
       "\n",
       "    .dataframe thead th {\n",
       "        text-align: right;\n",
       "    }\n",
       "</style>\n",
       "<table border=\"1\" class=\"dataframe\">\n",
       "  <thead>\n",
       "    <tr style=\"text-align: right;\">\n",
       "      <th></th>\n",
       "      <th>word</th>\n",
       "      <th>count</th>\n",
       "    </tr>\n",
       "  </thead>\n",
       "  <tbody>\n",
       "    <tr>\n",
       "      <th>0</th>\n",
       "      <td>год</td>\n",
       "      <td>1317</td>\n",
       "    </tr>\n",
       "    <tr>\n",
       "      <th>1</th>\n",
       "      <td>человек</td>\n",
       "      <td>1235</td>\n",
       "    </tr>\n",
       "    <tr>\n",
       "      <th>2</th>\n",
       "      <td>день</td>\n",
       "      <td>1005</td>\n",
       "    </tr>\n",
       "    <tr>\n",
       "      <th>3</th>\n",
       "      <td>благотворительный</td>\n",
       "      <td>844</td>\n",
       "    </tr>\n",
       "    <tr>\n",
       "      <th>4</th>\n",
       "      <td>мочь</td>\n",
       "      <td>785</td>\n",
       "    </tr>\n",
       "    <tr>\n",
       "      <th>5</th>\n",
       "      <td>помощь</td>\n",
       "      <td>696</td>\n",
       "    </tr>\n",
       "    <tr>\n",
       "      <th>6</th>\n",
       "      <td>ребёнок</td>\n",
       "      <td>692</td>\n",
       "    </tr>\n",
       "    <tr>\n",
       "      <th>7</th>\n",
       "      <td>жизнь</td>\n",
       "      <td>657</td>\n",
       "    </tr>\n",
       "    <tr>\n",
       "      <th>8</th>\n",
       "      <td>время</td>\n",
       "      <td>618</td>\n",
       "    </tr>\n",
       "    <tr>\n",
       "      <th>9</th>\n",
       "      <td>показать</td>\n",
       "      <td>525</td>\n",
       "    </tr>\n",
       "    <tr>\n",
       "      <th>10</th>\n",
       "      <td>полностью</td>\n",
       "      <td>511</td>\n",
       "    </tr>\n",
       "    <tr>\n",
       "      <th>11</th>\n",
       "      <td>самый</td>\n",
       "      <td>509</td>\n",
       "    </tr>\n",
       "    <tr>\n",
       "      <th>12</th>\n",
       "      <td>стать</td>\n",
       "      <td>490</td>\n",
       "    </tr>\n",
       "    <tr>\n",
       "      <th>13</th>\n",
       "      <td>деньга</td>\n",
       "      <td>487</td>\n",
       "    </tr>\n",
       "    <tr>\n",
       "      <th>14</th>\n",
       "      <td>большой</td>\n",
       "      <td>472</td>\n",
       "    </tr>\n",
       "    <tr>\n",
       "      <th>15</th>\n",
       "      <td>дело</td>\n",
       "      <td>462</td>\n",
       "    </tr>\n",
       "    <tr>\n",
       "      <th>16</th>\n",
       "      <td>каждый</td>\n",
       "      <td>438</td>\n",
       "    </tr>\n",
       "    <tr>\n",
       "      <th>17</th>\n",
       "      <td>добрый</td>\n",
       "      <td>429</td>\n",
       "    </tr>\n",
       "    <tr>\n",
       "      <th>18</th>\n",
       "      <td>очень</td>\n",
       "      <td>419</td>\n",
       "    </tr>\n",
       "    <tr>\n",
       "      <th>19</th>\n",
       "      <td>друг</td>\n",
       "      <td>418</td>\n",
       "    </tr>\n",
       "  </tbody>\n",
       "</table>\n",
       "</div>"
      ],
      "text/plain": [
       "                 word  count\n",
       "0                 год   1317\n",
       "1             человек   1235\n",
       "2                день   1005\n",
       "3   благотворительный    844\n",
       "4                мочь    785\n",
       "5              помощь    696\n",
       "6             ребёнок    692\n",
       "7               жизнь    657\n",
       "8               время    618\n",
       "9            показать    525\n",
       "10          полностью    511\n",
       "11              самый    509\n",
       "12              стать    490\n",
       "13             деньга    487\n",
       "14            большой    472\n",
       "15               дело    462\n",
       "16             каждый    438\n",
       "17             добрый    429\n",
       "18              очень    419\n",
       "19               друг    418"
      ]
     },
     "execution_count": 22,
     "metadata": {},
     "output_type": "execute_result"
    }
   ],
   "source": [
    "fdist = nltk.FreqDist()\n",
    "\n",
    "for index, row in df.iterrows():\n",
    "    for w in row[\"body_3\"].split():\n",
    "        fdist[w] += 1\n",
    "        \n",
    "top100 = fdist.most_common(100)\n",
    "df2 = pd.DataFrame(top100, columns = ['word', 'count'])\n",
    "df2.head(20)\n",
    "#df2 # показать все 100"
   ]
  },
  {
   "cell_type": "markdown",
   "metadata": {},
   "source": [
    "# Строим график"
   ]
  },
  {
   "cell_type": "code",
   "execution_count": 23,
   "metadata": {},
   "outputs": [
    {
     "data": {
      "text/plain": [
       "<matplotlib.axes._subplots.AxesSubplot at 0x23ca55d20f0>"
      ]
     },
     "execution_count": 23,
     "metadata": {},
     "output_type": "execute_result"
    },
    {
     "data": {
      "image/png": "[encoded data removed]",
      "text/plain": [
       "<Figure size 1440x720 with 1 Axes>"
      ]
     },
     "metadata": {
      "needs_background": "light"
     },
     "output_type": "display_data"
    }
   ],
   "source": [
    "df2[:50].plot.bar(x='word', y='count', figsize=(20,10))"
   ]
  },
  {
   "cell_type": "markdown",
   "metadata": {},
   "source": [
    "# Наблюдение\n",
    "[pymorphy2](https://pymorphy2.readthedocs.io/) считает, что нормальная форма слова \"**деньги**\" это \"**деньга**\""
   ]
  },
  {
   "cell_type": "code",
   "execution_count": 24,
   "metadata": {},
   "outputs": [
    {
     "data": {
      "text/plain": [
       "[Parse(word='денег', tag=OpencorporaTag('NOUN,inan,femn plur,gent'), normal_form='деньга', score=1.0, methods_stack=((<DictionaryAnalyzer>, 'денег', 1268, 8),))]"
      ]
     },
     "execution_count": 24,
     "metadata": {},
     "output_type": "execute_result"
    }
   ],
   "source": [
    "morph.parse(\"денег\")"
   ]
  },
  {
   "cell_type": "code",
   "execution_count": 25,
   "metadata": {},
   "outputs": [
    {
     "data": {
      "text/plain": [
       "[Parse(word='деньги', tag=OpencorporaTag('NOUN,inan,femn sing,gent'), normal_form='деньга', score=0.5, methods_stack=((<DictionaryAnalyzer>, 'деньги', 1268, 1),)),\n",
       " Parse(word='деньги', tag=OpencorporaTag('NOUN,inan,femn plur,nomn'), normal_form='деньга', score=0.25, methods_stack=((<DictionaryAnalyzer>, 'деньги', 1268, 7),)),\n",
       " Parse(word='деньги', tag=OpencorporaTag('NOUN,inan,femn plur,accs'), normal_form='деньга', score=0.25, methods_stack=((<DictionaryAnalyzer>, 'деньги', 1268, 10),))]"
      ]
     },
     "execution_count": 25,
     "metadata": {},
     "output_type": "execute_result"
    }
   ],
   "source": [
    "morph.parse(\"деньги\")"
   ]
  },
  {
   "cell_type": "markdown",
   "metadata": {},
   "source": [
    "# Устойчивые фразы"
   ]
  },
  {
   "cell_type": "code",
   "execution_count": 26,
   "metadata": {},
   "outputs": [
    {
     "data": {
      "text/plain": [
       "<matplotlib.axes._subplots.AxesSubplot at 0x23ca5393be0>"
      ]
     },
     "execution_count": 26,
     "metadata": {},
     "output_type": "execute_result"
    },
    {
     "data": {
      "image/png": "[encoded data removed]",
      "text/plain": [
       "<Figure size 1440x720 with 1 Axes>"
      ]
     },
     "metadata": {
      "needs_background": "light"
     },
     "output_type": "display_data"
    }
   ],
   "source": [
    "data = df.body_3.values.tolist()\n",
    "data_words = [s.split() for s in data]\n",
    "\n",
    "phrases = gensim.models.Phrases(data_words, min_count=3, threshold=10)\n",
    "bigram = gensim.models.phrases.Phraser(phrases)\n",
    "\n",
    "df[\"body_4\"] = [\" \".join(s) for s in bigram[data_words]]\n",
    "\n",
    "fdist = nltk.FreqDist()\n",
    "\n",
    "for index, row in df.iterrows():\n",
    "    for w in row[\"body_4\"].split():\n",
    "        fdist[w] += 1\n",
    "        \n",
    "top100 = fdist.most_common(100)\n",
    "df2 = pd.DataFrame(top100, columns = ['word', 'count'])\n",
    "df2[:50].plot.bar(x='word', y='count', figsize=(20,10))"
   ]
  }
 ],
 "metadata": {
  "kernelspec": {
   "display_name": "Python 3",
   "language": "python",
   "name": "python3"
  },
  "language_info": {
   "codemirror_mode": {
    "name": "ipython",
    "version": 3
   },
   "file_extension": ".py",
   "mimetype": "text/x-python",
   "name": "python",
   "nbconvert_exporter": "python",
   "pygments_lexer": "ipython3",
   "version": "3.7.3"
  }
 },
 "nbformat": 4,
 "nbformat_minor": 2
}
